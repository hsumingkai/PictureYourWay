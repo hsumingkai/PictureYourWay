{
 "cells": [
  {
   "cell_type": "code",
   "execution_count": 1,
   "metadata": {},
   "outputs": [],
   "source": [
    "import pandas as pd\n",
    "import numpy as np"
   ]
  },
  {
   "cell_type": "markdown",
   "metadata": {},
   "source": [
    "# 讀取資料"
   ]
  },
  {
   "cell_type": "code",
   "execution_count": 2,
   "metadata": {},
   "outputs": [],
   "source": [
    "ft=pd.read_excel(\"FT.xlsx\")"
   ]
  },
  {
   "cell_type": "code",
   "execution_count": 3,
   "metadata": {},
   "outputs": [
    {
     "data": {
      "text/html": [
       "<div>\n",
       "<style scoped>\n",
       "    .dataframe tbody tr th:only-of-type {\n",
       "        vertical-align: middle;\n",
       "    }\n",
       "\n",
       "    .dataframe tbody tr th {\n",
       "        vertical-align: top;\n",
       "    }\n",
       "\n",
       "    .dataframe thead th {\n",
       "        text-align: right;\n",
       "    }\n",
       "</style>\n",
       "<table border=\"1\" class=\"dataframe\">\n",
       "  <thead>\n",
       "    <tr style=\"text-align: right;\">\n",
       "      <th></th>\n",
       "      <th>content</th>\n",
       "    </tr>\n",
       "  </thead>\n",
       "  <tbody>\n",
       "    <tr>\n",
       "      <th>0</th>\n",
       "      <td>宏亞食品巧克力觀光工廠是一座以巧克力為主題的觀光工廠，建築設計、展場文字、陳列物、戶外景觀及...</td>\n",
       "    </tr>\n",
       "    <tr>\n",
       "      <th>1</th>\n",
       "      <td>台灣金屬創意館為第一座金屬造型觀光工廠，來這裡可讓大家看到並觸摸到金屬柔軟的一面，館區內充滿...</td>\n",
       "    </tr>\n",
       "    <tr>\n",
       "      <th>2</th>\n",
       "      <td>林口酒廠為擁有近百年歷史的台北酒廠(1921)、板橋酒廠(1937)、樹林酒廠(1906)合...</td>\n",
       "    </tr>\n",
       "    <tr>\n",
       "      <th>3</th>\n",
       "      <td>ㄚ發哥果園內的果樹已有數十年的歷史，園主堅持一貫的種植理念，果園的果樹皆是以發酵的牛奶灌溉長...</td>\n",
       "    </tr>\n",
       "    <tr>\n",
       "      <th>4</th>\n",
       "      <td>宜蘭二湖是台中以北唯一適合栽種鳳梨的的地區，早在日劇時代就有了。在早期刻苦的環境，肥料一包三...</td>\n",
       "    </tr>\n",
       "  </tbody>\n",
       "</table>\n",
       "</div>"
      ],
      "text/plain": [
       "                                             content\n",
       "0  宏亞食品巧克力觀光工廠是一座以巧克力為主題的觀光工廠，建築設計、展場文字、陳列物、戶外景觀及...\n",
       "1  台灣金屬創意館為第一座金屬造型觀光工廠，來這裡可讓大家看到並觸摸到金屬柔軟的一面，館區內充滿...\n",
       "2  林口酒廠為擁有近百年歷史的台北酒廠(1921)、板橋酒廠(1937)、樹林酒廠(1906)合...\n",
       "3  ㄚ發哥果園內的果樹已有數十年的歷史，園主堅持一貫的種植理念，果園的果樹皆是以發酵的牛奶灌溉長...\n",
       "4  宜蘭二湖是台中以北唯一適合栽種鳳梨的的地區，早在日劇時代就有了。在早期刻苦的環境，肥料一包三..."
      ]
     },
     "execution_count": 3,
     "metadata": {},
     "output_type": "execute_result"
    }
   ],
   "source": [
    "ft.head()"
   ]
  },
  {
   "cell_type": "markdown",
   "metadata": {},
   "source": [
    "# Jieba斷詞"
   ]
  },
  {
   "cell_type": "code",
   "execution_count": 5,
   "metadata": {},
   "outputs": [],
   "source": [
    "import jieba\n",
    "import jieba.posseg as pseg"
   ]
  },
  {
   "cell_type": "code",
   "execution_count": 6,
   "metadata": {},
   "outputs": [
    {
     "name": "stderr",
     "output_type": "stream",
     "text": [
      "Building prefix dict from the default dictionary ...\n",
      "Dumping model to file cache C:\\Users\\sabri\\AppData\\Local\\Temp\\jieba.cache\n",
      "Loading model cost 2.600 seconds.\n",
      "Prefix dict has been built succesfully.\n"
     ]
    }
   ],
   "source": [
    "import jieba\n",
    "import jieba.posseg as pseg\n",
    "def chinese_word_cut(mytext):\n",
    "    words = \"\"\n",
    "    for word,pos in pseg.cut(mytext):\n",
    "        if pos == \"n\" :  words+=\" \"+word   \n",
    "    return words\n",
    "ft[\"content_cutted\"] = ft.content.apply(chinese_word_cut)"
   ]
  },
  {
   "cell_type": "markdown",
   "metadata": {},
   "source": [
    "# 存取斷詞結果"
   ]
  },
  {
   "cell_type": "code",
   "execution_count": 5,
   "metadata": {},
   "outputs": [
    {
     "data": {
      "text/plain": [
       "0     食品 觀光 工廠 主題 觀光 工廠 建築 展場 文字 外景 造型 建築 展場 建築 外觀 ...\n",
       "1     金屬 創意館 金屬 造型 觀光 工廠 大家 金屬 館區 金屬 光 知性 文化 地方 金屬 ...\n",
       "2     林口 酒廠 歷史 酒廠 板橋 酒廠 樹林 酒廠 酒 廠 民國 用量 酒廠 產品 文化 特色...\n",
       "3     發哥 果園 果樹 歷史 園主 種植 理念 果園 果樹 牛奶 果園 水果 果肉 多汁 命礦 ...\n",
       "4                    地區 日劇 時代 環境 肥料 角 肥料 大家 土 原生 土 酸 土\n",
       "Name: content_cutted, dtype: object"
      ]
     },
     "execution_count": 5,
     "metadata": {},
     "output_type": "execute_result"
    }
   ],
   "source": [
    "ft.content_cutted.head()"
   ]
  },
  {
   "cell_type": "code",
   "execution_count": 10,
   "metadata": {},
   "outputs": [
    {
     "data": {
      "text/plain": [
       "array([' 食品 觀光 工廠 主題 觀光 工廠 建築 展場 文字 外景 造型 建築 展場 建築 外觀 規劃 省 碳 展場 歷史 寓教 專業 廠館 處',\n",
       "       ' 金屬 創意館 金屬 造型 觀光 工廠 大家 金屬 館區 金屬 光 知性 文化 地方 金屬 創意館 志 鋼金 股份 有限公司 品牌 志 鋼金 朋友 板金 鋼鐵 公司 命名 志 鋼金 人 同心 協力 公司 品牌 思維 決議 工廠 觀 光化 板金 觀光 工廠 觀光 工廠 金屬 文化 志 鋼金 專業板 廠 化生 流程 參觀 志鋼 流程 電腦 成形 作業 部門 氬 系統 部門 產品 部門 手動 氣動 工具 產品',\n",
       "       ' 林口 酒廠 歷史 酒廠 板橋 酒廠 樹林 酒廠 酒 廠 民國 用量 酒廠 產品 文化 特色 地區 設備 米糧 工廠 林口 酒廠 酒 利用 日式 清酒 清酒 全國 日式 清酒 酒廠 清酒 產物 問題 台酒 清酒 面膜 產品 定位 護膚 素材 盛況 人 葡萄酒 概念 人 口味 葡萄酒 社會 大眾 市佔率 葡萄酒 品牌 林口 酒廠 致力 酒類 方式 餅 大廠 酒 薄餅 風味 熱潮 風行 營業額 餅 界 事酒品 售 中心 清酒 民眾 觀光 客參觀 酒 林口 酒廠 工業區 景點 台塑 文物 台塑 醫療 園區 科技 園區 歌鎮 產業 地方 產業 文化 觀光 特色 主題 產業 觀光 桃 縣 光 旅 林口 酒廠 公司 資產 政策 航空 城計畫 機場 集酒類 產業 歷史 市場 地利 基礎 產業 文化 藝術 人文 資源 工廠 公園 化 清酒 意象 文化 園區 城廓 名勝 景點 設施 建構 地區 指標性 觀光 酒廠 期能 人口 來廠 觀光 營',\n",
       "       ...,\n",
       "       ' 文化 產業 園區 地 時期 酒 社 酒類 制度 官 全台 工場 光 酒廠 酒 工場 酒廠 政府 公賣局 公賣局 酒廠 時代 計劃 規劃 酒廠 工業區 新廠 大片 工業 歷史 建築 園區 日治 時期 歷史 建築物 全台 酒廠 政府 民意 全區 歷史 建築 文建會 文化 園區 定位 建築 藝術 中心 酒廠 酒 工 新生 文化 產業 基地',\n",
       "       ' 文化 產業 園區 市中心 地 歷史 老廠 房倉庫 園區 藝文 餐飲 特色 商品 資訊 文化 藝術 商業 形塑 文創 活力 風格 聚點 旅 場域',\n",
       "       ' 文化 產業 園區 火車 公司 酒廠 面積 民國 行政院 文化 規劃 文化 產業 園區 前文 建會 園區 原 建物 整理 建物 歷史 建築 園區 機具 文化 產業 園區 酒 文化 資產 利用 策略 酒 文化 產業 基礎 傳統 藝術 定位 地區 傳統 工藝 藝術 資源 傳統 技藝 傳統 技術 轉型'], dtype=object)"
      ]
     },
     "execution_count": 10,
     "metadata": {},
     "output_type": "execute_result"
    }
   ],
   "source": [
    "ftarray= np.array(ft.content_cutted)\n",
    "type(ftarray)\n",
    "ftarray"
   ]
  },
  {
   "cell_type": "code",
   "execution_count": 12,
   "metadata": {},
   "outputs": [],
   "source": [
    "ftlist=ftarray.tolist()\n",
    "\n",
    "import csv\n",
    "\n",
    "# 開啟輸出的 CSV 檔案\n",
    "with open('jiebacw.csv', 'w', newline='') as csvfile:\n",
    "  # 建立 CSV 檔寫入器\n",
    "  writer = csv.writer(csvfile)\n",
    "\n",
    "  # 寫入一列資料\n",
    "  writer.writerow(ftlist)"
   ]
  },
  {
   "cell_type": "code",
   "execution_count": 13,
   "metadata": {},
   "outputs": [],
   "source": [
    "import csv\n",
    "\n",
    "# 開啟輸出的 CSV 檔案\n",
    "with open('jieba.csv', 'w', newline='') as csvfile:\n",
    "  # 建立 CSV 檔寫入器\n",
    "  writer = csv.writer(csvfile)\n",
    "\n",
    "  # 寫入一列資料\n",
    "  writer.writerow(ft[\"content_cutted\"])"
   ]
  },
  {
   "cell_type": "markdown",
   "metadata": {},
   "source": [
    "# 計算次數轉成向量"
   ]
  },
  {
   "cell_type": "code",
   "execution_count": 7,
   "metadata": {},
   "outputs": [],
   "source": [
    "from sklearn.feature_extraction.text import TfidfVectorizer, CountVectorizer"
   ]
  },
  {
   "cell_type": "code",
   "execution_count": 8,
   "metadata": {},
   "outputs": [],
   "source": [
    "n_features = 15000\n",
    "ft_vectorizer = CountVectorizer(strip_accents = 'unicode',\n",
    "                                max_features=n_features,\n",
    "                                max_df = 0.5,\n",
    "                                min_df = 10)\n",
    "tr = ft_vectorizer.fit_transform(ft.content_cutted)"
   ]
  },
  {
   "cell_type": "code",
   "execution_count": 17,
   "metadata": {},
   "outputs": [
    {
     "ename": "NameError",
     "evalue": "name 'trarray' is not defined",
     "output_type": "error",
     "traceback": [
      "\u001b[1;31m---------------------------------------------------------------------------\u001b[0m",
      "\u001b[1;31mNameError\u001b[0m                                 Traceback (most recent call last)",
      "\u001b[1;32m<ipython-input-17-8c819579eaa2>\u001b[0m in \u001b[0;36m<module>\u001b[1;34m()\u001b[0m\n\u001b[0;32m      1\u001b[0m \u001b[1;32mimport\u001b[0m \u001b[0mpandas\u001b[0m \u001b[1;32mas\u001b[0m \u001b[0mpd\u001b[0m\u001b[1;33m\u001b[0m\u001b[0m\n\u001b[1;32m----> 2\u001b[1;33m \u001b[0mpd\u001b[0m\u001b[1;33m.\u001b[0m\u001b[0mDataFrame\u001b[0m\u001b[1;33m(\u001b[0m\u001b[0mtrarray\u001b[0m\u001b[1;33m)\u001b[0m\u001b[1;33m\u001b[0m\u001b[0m\n\u001b[0m",
      "\u001b[1;31mNameError\u001b[0m: name 'trarray' is not defined"
     ]
    }
   ],
   "source": [
    "import pandas as pd\n",
    "pd.DataFrame(trarray)"
   ]
  },
  {
   "cell_type": "code",
   "execution_count": 18,
   "metadata": {
    "scrolled": true
   },
   "outputs": [
    {
     "name": "stdout",
     "output_type": "stream",
     "text": [
      "[[0 0 0 ..., 0 0 0]\n",
      " [0 0 0 ..., 0 0 0]\n",
      " [0 0 0 ..., 0 0 0]\n",
      " ..., \n",
      " [0 0 0 ..., 0 0 0]\n",
      " [0 0 0 ..., 0 0 0]\n",
      " [0 0 0 ..., 0 0 0]]\n",
      "['一帶', '一格', '一流', '一甲子', '一覽', '一體', '三官', '三義', '三角形', '上帝', '下午茶', '下層', '不容', '世人', '世外桃源', '世界', '世紀', '世音', '中央', '中式', '中心', '中段', '主人', '主峰', '主祀觀', '主神', '主義', '主角', '主軸', '主題', '主體', '乘船', '乘風', '乳牛', '事件', '事務', '事情', '事故', '事業', '事物', '事項', '互動', '互動式', '五色', '交叉', '交叉口', '交易', '交會', '交流', '交由', '交界', '交織', '交趾', '交通', '交錯', '亮點', '人人', '人們', '人力', '人口', '人員', '人士', '人家', '人工', '人心', '人情', '人情味', '人才', '人數', '人文', '人次', '人民', '人氣', '人流', '人潮', '人煙', '人物', '人生', '人群', '人聲', '人行', '人車', '人間', '人類', '人體', '介石', '仕紳', '仙台', '仙境', '代表', '代表性', '任務', '企業', '伐木', '住宅', '住家', '住宿', '住戶', '住民', '佛像', '佛祖', '作品', '作家', '作工', '作業', '作法', '作物', '作者', '佳景', '佳餚', '來台', '來源', '供人', '供民眾', '依序', '保護區', '信仰', '信徒', '信眾', '信義', '信義區', '倉庫', '個性', '倒影', '候鳥', '假山', '偶像', '傳奇', '傳教', '傳統', '傳說', '價值', '價格', '儀式', '優勢', '優質', '元帥', '元素', '兄弟', '先人', '先師', '先民', '先生', '先祖', '先總統', '光影', '光明', '光是', '光景', '光線', '光芒', '兒子', '兒童', '內容', '內涵', '全世界', '全區', '全台', '全國', '全家', '全家人', '全島', '全景', '全民', '全球', '全省', '全程', '全線', '全貌', '全身', '全部', '全都', '全長', '全面', '全館', '兩者', '八仙', '八卦', '八景', '公仔', '公分', '公司', '公告', '公園', '公室', '公廁', '公廟', '公所', '公益', '公賣局', '公路', '公車', '公館', '六角形', '共生', '典型', '典禮', '典範', '典藏', '冒險', '冠鷲', '冰品', '出力', '出水口', '出海口', '分靈', '分館', '利用', '制度', '制高點', '前人', '前段', '前殿', '前線', '創意', '創業', '劇場', '力量', '功德', '功能', '勇士', '動人', '動力', '動工', '動態', '動手', '動物', '動線', '勝地', '勝景', '化學', '化石', '化身', '北竿', '匠師', '匾額', '區位', '區分', '區域', '區塊', '十字架', '升格', '協力', '協會', '博士', '博物', '博覽會', '印記', '印象', '卵石', '原住民', '原則', '原名', '原味', '原因', '原址', '原屬', '原料', '原木', '原本', '原民', '原理', '原生', '原稱', '原貌', '原鄉', '原野', '參觀', '又名', '叉路', '取景', '口味', '口感', '口述', '古井', '古宅', '古意', '古物', '古色古香', '古道', '句點', '台南人', '台幣', '台糖', '台鐵', '史料', '司令部', '合力', '合式', '合影', '合法', '合院', '吊橋', '同心', '同樂', '同治', '名人', '名列', '名字', '名家', '名師', '名氣', '名稱', '名號', '后宮', '向日葵', '味蕾', '味道', '命名', '命運', '咖啡', '咖啡店', '品味', '品牌', '品種', '品茗', '品茶', '品質', '員工', '售票', '商人', '商品', '商圈', '商場', '商家', '商店', '商業', '商船', '問題', '啤酒', '單位', '單程', '單車', '器具', '器材', '器物', '回家', '回程', '因位', '因應', '因素', '國人', '國定', '國家', '國小', '國民', '國王', '國立', '國軍', '國道', '國際', '圍牆', '園位', '園區', '園地', '園藝', '圓弧', '圓形', '圓頂', '圖文', '圖書', '圖書館', '圖案', '圖片', '團隊', '團體', '土地', '土地公', '土壤', '土石', '土質', '地下室', '地下水', '地主', '地人', '地位', '地利', '地勢', '地區', '地名', '地圖', '地址', '地層', '地帶', '地底', '地形', '地方', '地景', '地板', '地標', '地段', '地毯', '地民眾', '地球', '地理', '地理位置', '地瓜', '地約', '地藏王', '地表', '地貌', '地質', '地震', '地面', '地點', '坑口', '坑道', '坡地', '坡度', '垃圾', '型式', '型態', '城樓', '城牆', '城鄉', '城鎮', '城門', '基地', '基座', '基本', '基礎', '基金', '堂皇', '堂號', '堆積', '堡壘', '堤防', '場地', '場域', '場所', '場景', '場面', '場館', '塑像', '塔身', '墓園', '壁畫', '壁面', '壓力', '壕溝', '士紳', '夕照', '夕陽', '外地', '外形', '外教', '外牆', '外表', '外觀', '外貌', '外銷', '多汁', '夜市', '夜幕低垂', '夜景', '夢幻', '大事', '大人', '大利', '大力', '大地', '大坑', '大夫', '大字', '大學', '大家', '大帝', '大師', '大廟', '大廳', '大方', '大樓', '大樹', '大橋', '大殿', '大片', '大眾', '大石', '大肚', '大船', '大道', '大量', '大門', '大陸', '大雄', '天主堂', '天井', '天地', '天堂', '天宮', '天府', '天氣', '天空', '天花板', '天際', '太子', '夫人', '夫妻', '夫婦', '奇岩', '奇幻', '奇景', '奇石', '套餐', '奠基', '女士', '女孩', '女性', '好友', '好場', '姓氏', '委員', '委員會', '姿態', '娃娃', '娘娘', '婚紗', '婦女', '媒體', '媽媽', '媽祖', '媽祖廟', '子弟', '孕育出', '字型', '字形', '字樣', '季節', '季風', '孩子', '孩童', '學堂', '學子', '學會', '學校', '學生', '學童', '學者', '學術', '學院', '宅第', '宗教', '宗教信仰', '宗旨', '官兵', '官方', '官網', '官署', '官舍', '官邸', '定位', '客人', '客家', '客家人', '客廳', '客服', '客車', '宮位', '宮廟', '宮殿', '家人', '家公園', '家具', '家園', '家家', '家庭', '家鄉', '宿舍', '密度', '密集', '寓教', '實境', '實際', '實體', '寬度', '寵物', '寶物', '寺廟', '寺院', '將軍', '專人', '專區', '專家', '專屬', '專業', '專用', '專程', '專門', '對岸', '對面', '小動物', '小吃', '小吃店', '小孩', '小學', '小屋', '小島', '小巧', '小巷', '小店', '小廟', '小徑', '小心', '小朋友', '小木屋', '小村', '小橋', '小火', '小米', '小花', '小路', '小金', '小鎮', '小魚', '少女', '少數', '尺寸', '尾端', '居家', '居民', '屋架', '屋瓦', '屋簷', '屋脊', '屋舍', '屋頂', '屏東', '屏障', '展區', '展品', '展場', '展示室', '展覽室', '展覽館', '展館', '層層', '層巒', '層樓', '山位', '山光水色', '山勢', '山區', '山友', '山地', '山壁', '山巒', '山形', '山徑', '山景', '山步道', '山牆', '山產', '山石', '山系', '山脊', '山腰', '山色', '山谷', '山路', '山間', '山頂', '山頭', '山風', '山麓', '岔路', '岩塊', '岩壁', '岩層', '岩洞', '岩石', '岬角', '峭壁', '峰山', '島嶼', '峽谷', '崖壁', '工人', '工作坊', '工作室', '工作者', '工具', '工務局', '工坊', '工場', '工廠', '工業', '工業區', '工法', '工程', '工藝', '巨木', '差異', '市中心', '市公所', '市區', '市場', '市定', '市府', '市政', '市政府', '市民', '市街', '市鎮', '市長', '市集', '布置', '布袋', '帆船', '師傅', '帷幕', '常態', '常民', '平台', '平地', '平房', '平面', '年度', '年間', '年齡', '幽情', '幽谷', '店家', '店面', '座位', '座椅', '座落', '庭園', '庭院', '廁所', '廂房', '廊柱', '廊道', '廚房', '廟位', '廟口', '廟址', '廟宇', '廟方', '廟會', '廟貌', '廠區', '廠房', '廣告', '廣場', '建廟', '建材', '建構', '建物', '建築', '建築師', '建築本體', '建築物', '建築體', '建議', '弟子', '弧形', '強風', '彈塗魚', '彈藥', '形勢', '形容', '形式', '形態', '形狀', '形象', '彩繪', '彩色', '彩霞', '影片', '影院', '影音', '役所', '律動', '微風', '心力', '心情', '心靈', '志工', '忠義', '念館', '思想', '思源', '思維', '情人', '情侶', '情境', '情形', '情感', '情懷', '情景', '情況', '情調', '情趣', '想像力', '意味', '意境', '意思', '意指', '意涵', '意義', '意識', '意象', '愛情', '感念', '感性', '感情', '感覺', '態度', '態池', '成分', '成千', '成就', '成形', '成果', '成群', '成蔭', '戰地', '戰場', '戰性', '戰爭', '戰略', '戰車', '戲偶', '戲劇', '戲區', '戲場', '戲曲', '戲水', '戲水區', '戲院', '房子', '房屋', '房舍', '房間', '所在位置', '所在地', '所幸', '所題', '手作', '手工', '手法', '技巧', '技法', '技藝', '技術', '投影', '招待所', '招潮', '拱型', '拱廊', '拱形', '拱門', '指南', '指導', '指標', '排球', '排隊', '採果', '探險', '撞球', '據點', '攝影', '攤位', '攤商', '攤販', '支流', '支線', '放映室', '政府', '政治', '政策', '故事', '故名', '故居', '故稱', '故鄉', '效果', '效益', '教堂', '教學', '教室', '教授', '教會', '教材', '教育部', '散心', '散步', '整治', '整片', '整理', '整體', '數位', '數量', '文人', '文創', '文化', '文化局', '文史', '文字', '文學', '文學館', '文山', '文景', '文水', '文物', '文獻', '文藝', '文風', '斜坡', '新人', '新光', '新化', '新式', '新生', '新聞', '斷層', '斷崖', '方位', '方向', '方山', '方式', '方形', '方法', '方面', '旅人', '旅客', '旅程', '旅館', '族人', '族群', '旗山', '日光', '日子', '日式', '日據', '日治', '日益', '日籍', '日落', '昆蟲', '明信片', '星光', '星空', '時代', '時候', '時光', '時分', '時刻', '時尚', '時會', '時期', '時機', '時段', '時空', '時節', '時間', '晚霞', '晨曦', '晨間', '景區', '景物', '景色', '景觀', '景象', '景點', '暮鼓', '曲線', '書店', '書法', '書畫', '書籍', '書院', '書館', '最高峰', '會議', '會館', '月亮', '月份', '月光', '月台', '月眉', '月間', '有力', '有所', '有機', '有益', '有限公司', '朋友', '服飾', '朝向', '木作', '木屋', '木工', '木材', '木板', '木柵', '木棧', '木構', '木炭', '木質', '木造', '木雕', '木頭', '本區', '本土', '本宮', '本島', '本市', '本廟', '本館', '本體', '材料', '材質', '村民', '村莊', '村落', '東勢', '東路', '松鼠', '板橋', '枕木', '林務局', '林區', '林口', '林地', '林場', '林家', '林業', '林相', '林蔭', '林間', '果園', '果樹', '枝葉', '架構', '柑橘', '柚子', '柱子', '校區', '校園', '校舍', '校長', '株式', '核定', '核心', '格局', '桃園', '桃花', '桃花源', '桌椅', '桐花', '條件', '梯田', '棒球', '棧道', '森林', '植栽', '植物', '植被', '椰子', '楓樹', '業務', '業者', '極具', '概念', '榕樹', '榮景', '構築', '樂器', '樂園', '樂團', '樂道', '樓層', '樓梯', '樓閣', '標本', '標準', '標章', '標高', '樞紐', '樟木', '樟樹', '樟腦', '模型', '模式', '模樣', '樣式', '樣貌', '樹影', '樹木', '樹林', '樹種', '樹葉', '樹蔭', '樹蛙', '樹齡', '橋墩', '橋梁', '橋身', '橋面', '橋頭', '機器', '機場', '機會', '機械', '機構', '機能', '機車', '機關', '橫屋', '檜木', '檳榔', '櫻花', '欄杆', '歌手', '歌舞', '歐式', '正廳', '正殿', '正門', '步伐', '步行', '步調', '步道', '武器', '歷代', '歷史', '歷年', '歷時', '歷程', '歷經', '殖民', '殿堂', '殿宇', '母親', '比例', '民主', '民俗', '民俗文化', '民國', '民宅', '民宿', '民居', '民族', '民權', '民生', '民眾', '民間', '氛圍', '氣候', '氣勢', '氣息', '氣氛', '氣派', '氣流', '氣象', '水井', '水位', '水分', '水利', '水力', '水口', '水域', '水塔', '水塘', '水師', '水平', '水庫', '水晶', '水果', '水氣', '水池', '水泥', '水流', '水深', '水源', '水源地', '水準', '水溫', '水潭', '水生', '水產', '水田', '水稻', '水舞', '水色', '水蜜桃', '水資源', '水質', '水路', '水車', '水道', '水量', '水面', '水鳥', '汐止', '池水', '決議', '汽車', '沙坑', '沙灘', '河堤', '河床', '河流', '河道', '河階', '油桐', '沼澤', '沿路', '沿革', '泉源', '泉質', '法人', '法師', '法會', '法相', '泡泡', '泡湯', '泡茶', '泥土', '泥塑', '泥岩', '泥沙', '泳池', '洋式', '洋樓', '洋行', '洞口', '洞穴', '活力', '派出所', '流域', '流水', '流程', '流經', '流線', '浪花', '浮雕', '浴場', '海域', '海堤', '海崖', '海平面', '海拔', '海景', '海水', '海流', '海潮', '海濱', '海灘', '海產', '海盜', '海蝕', '海防', '海面', '海風', '消失', '消費者', '消防', '涼亭', '涼風', '淡水', '淡水河', '淤積', '淨化', '淨土', '深具', '淵源', '混凝土', '清同治', '清廷', '清水', '清法', '清領', '渡假', '渡假村', '渡船', '港區', '港口', '游泳池', '湖光山色', '湖面', '湧泉', '源地', '源源', '源頭', '溪口', '溪岸', '溪水', '溪流', '溪畔', '溪谷', '溫室', '溫度', '溫泉', '滋味', '滿目', '漁人', '漁場', '漁市', '漁會', '漁村', '漁業', '漁民', '漁港', '漁獲', '漁產', '漁船', '漁貨', '演藝廳', '漢人', '漲潮', '潛水', '潭水', '潮水', '潮汐', '潮流', '潮間', '濕地', '瀑布', '瀑布群', '灌木', '火山', '火車', '灰色', '炎炎夏日', '烤肉', '無法', '焦點', '煙囪', '煤礦', '照片', '熔岩', '熱帶', '熱心', '熱情', '熱門', '燈光', '燈塔', '燈火', '燈籠', '燈飾', '營區', '營業', '營運', '營養', '爬坡', '父母', '父親', '牆身', '牆面', '牌位', '牌坊', '牌樓', '牛奶', '牛車', '牧場', '牧草', '物品', '物種', '物資', '特區', '特地', '特性', '特產', '特色', '特色美食', '特質', '特點', '狀態', '狀況', '狩獵', '獅子', '獅頭', '獨具', '獼猴', '王船', '玩具', '玩家', '玩樂', '玩水', '玫瑰', '玻璃', '玻璃窗', '珊瑚', '珊瑚礁', '現址', '現場', '現存', '現象', '球場', '理念', '理想', '琉球', '琉璃', '環境', '環山', '環島', '環形', '環抱', '環湖', '環狀', '瓦片', '甜點', '生命力', '生平', '生態', '生態池', '生機', '生氣', '生活圈', '生活用品', '生物', '生物科技', '生長', '產品', '產地', '產業', '產物', '產生', '產量', '用品', '用地', '用心', '用水', '用途', '用餐', '田園', '男女', '畢業', '畫作', '畫家', '畫面', '異國', '疾病', '痕跡', '發源', '白色', '百合', '百姓', '百年老', '百景', '百貨', '皇帝', '皮膚', '盆地', '盆栽', '盛事', '盛況', '盛產', '目光', '目標', '目的', '直徑', '相間', '省道', '真人', '眷村', '眷舍', '眼界', '眼睛', '眼簾', '眾人', '眾生', '督府', '瞭望台', '知名度', '知性', '石刻', '石塊', '石壁', '石子', '石材', '石板', '石椅', '石灰', '石灰岩', '石燈', '石牆', '石獅', '石碇', '石碑', '石造', '石門', '石階', '石階步道', '石雕', '石頭', '砂岩', '硫磺', '硬體', '碉堡', '碎屑', '碎石', '碑文', '碩果', '碳酸', '碼頭', '碾米', '磁磚', '磚牆', '磚造', '礁岩', '礁石', '礦坑', '礦場', '礦工', '礦業', '社區', '社團', '社教', '社會', '祀奉', '祖師', '祖廟', '神仙', '神位', '神像', '神威', '神明', '神木', '神父', '神社', '神話', '神龕', '祠堂', '祭典', '禮品', '禮堂', '私人', '私房', '科學', '科技', '秘境', '秘密', '移民', '程度', '種子', '種類', '稱號', '稻田', '稻米', '空地', '空氣', '空軍', '空間', '穿著', '窗戶', '立碑', '立體', '站房', '站點', '童趣', '競技', '竹圍', '竹塹', '竹子', '竹東', '竹筍', '竹筏', '筆架', '管理局', '節理', '節目', '範圍', '籃球場', '精品', '精彩', '精心', '精神', '精雕', '糕餅', '糖廠', '糖業', '糯米', '系統', '紀念', '紀念品', '紀念碑', '紀念館', '紀錄', '紅磚', '紅色', '紋理', '素材', '紫色', '細心', '細沙', '終點', '結晶', '結果', '結構', '經典', '經商', '經國', '經歷', '經濟', '經由', '經驗', '綠園', '綠地', '綠島', '綠帶', '綠意', '綠林', '綠樹', '綠水', '綠色', '綠草', '綠蔭', '網址', '網球場', '網站', '網路', '線條', '緣故', '編織', '縣定', '縣市', '縣府', '縣道', '縮影', '縱谷', '總兵', '總會', '總督', '總統', '總長', '總面', '繞境', '繪畫', '美學', '美式', '美景', '美稱', '美術', '美譽', '美食', '群山', '群峰', '群島', '羽球', '習俗', '習場', '習性', '習慣', '翡翠', '老人', '老字號', '老屋', '老師', '老店', '老房子', '老樹', '老照片', '老街', '考量', '耆老', '耕種', '聖地', '聖堂', '聖母', '聚會', '聯絡', '聲名', '聲音', '肚子', '股份', '肥料', '背包客', '背景', '能力', '能量', '脈絡', '腳步', '腳踏車', '腹地', '臭豆腐', '致力', '興築', '興趣', '舉人', '舊址', '舞台', '舞蹈', '航海', '航空', '航線', '航行', '航道', '色彩', '色澤', '芒果', '芒草', '花卉', '花園', '花崗', '花市', '花期', '花木', '花朵', '花東', '花燈', '花瓣', '花生', '花茶', '花草', '花蓮', '芳香', '苦楝', '茅草', '茅草屋', '茶園', '茶坊', '茶廠', '茶油', '茶花', '茶葉', '茶香', '草原', '草地', '草坡', '草坪', '草木', '草皮', '草莓', '荒野', '荔枝', '荷花', '菊花', '菜色', '菩薩', '落日', '著作', '董事', '葫蘆', '蓄水', '蓮花', '蔬果', '蔬菜', '蕃薯', '蕨類', '藍色', '藏身', '藝人', '藝品', '藝廊', '藝文', '藝術', '藝術品', '藝術家', '藝術館', '藥師', '藥用', '藻井', '蛋糕', '蛙類', '蜂蜜', '蜻蜓', '蝙蝠', '蝙蝠洞', '蝴蝶', '螃蟹', '螢火', '螢火蟲', '螺旋', '蟾蜍', '行人', '行政', '行政院', '行業', '行步', '行程', '行經', '行路', '行館', '行駛', '街屋', '街景', '街道', '衣服', '表面', '裝潢', '裝置', '裝飾', '襯托', '西嶼', '西式', '規劃', '規定', '規模', '規畫', '視線', '視覺', '視野', '親子', '親山', '親朋', '親水', '親身', '觀世音', '觀光', '觀念', '觀星', '觀景', '觀景台', '觀眾', '觀音', '角度', '角色', '角落', '計劃', '計畫', '記憶', '記錄', '設施', '設置', '詩情', '詩意', '誕辰', '說法', '課程', '諧音', '講堂', '議室', '議題', '護法', '谷地', '豆腐', '豆花', '貝殼', '貝類', '財團', '財神', '貢獻', '貨物', '貨運', '費用', '資料', '資源', '資產', '資訊', '賓館', '賞景', '賞花', '賞蝶', '賞鳥', '賣場', '質地', '質感', '購物', '走廊', '起源', '起點', '超人', '趣味', '足球', '足跡', '距今', '距離', '路徑', '路段', '路況', '路燈', '路程', '路線', '路途', '路面', '身分', '身影', '身心', '身體', '車場', '車廂', '車步道', '車程', '車站', '車輛', '車道', '軌跡', '軌道', '軍事', '軍官', '軍方', '軍民', '軍艦', '軍隊', '輕食', '輪廓', '輪流', '轉型', '轉角', '辦公', '辦公廳', '辦理', '農作', '農具', '農園', '農場', '農夫', '農家', '農族', '農會', '農村', '農業', '農業區', '農民', '農法', '農特產品', '農產', '農產品', '農田', '農舍', '農莊', '農藥', '近距', '迷人', '追星', '途經', '通商', '通車', '速度', '造型', '造形', '造景', '造林', '進士', '遊人', '遊園', '遊客', '遊戲', '遊樂', '遊樂區', '遊樂園', '遊湖', '遊玩', '遊程', '遊艇', '運動場', '運氣', '過程', '道光', '道地', '道場', '道路', '遠觀', '遭遇', '遺址', '遺跡', '部份', '部分', '部落', '部隊', '郵局', '都市人', '鄉土', '鄉村', '鄉民', '鄉親', '鄉野', '鄉間', '配件', '酒廠', '酒瓶', '酒類', '醫學', '醫療', '醫院', '重劃', '重地', '重簷', '重要性', '重鎮', '重點', '野柳', '野菜', '野趣', '野餐', '野鳥', '金屬', '金色', '金身', '金門', '釣客', '銀行', '鋼筋', '鋼骨', '錯落', '鐵橋', '鐵路', '鐵軌', '鐵道', '鐵馬', '長廊', '長期', '長長', '門廊', '門廳', '門戶', '門楣', '門樓', '門神', '門票', '門窗', '門面', '開花', '開間', '開館', '閒區', '閒場', '閒情', '閒置', '闊葉', '闊葉林', '闔家', '關西', '阡陌', '防空洞', '防部', '陌生', '院落', '陣頭', '陪伴', '陶瓷', '陶藝', '陽光', '隊伍', '階梯', '階段', '隧道', '集團', '集散地', '集會', '集水', '集資', '雕像', '雕刻', '雕塑', '雕工', '雕飾', '雙手', '雙方', '雜草', '雜貨', '雜貨店', '雞籠', '雨水', '雲霧', '電力', '電子', '電廠', '電影', '電腦', '電視', '電話', '露營區', '靈驗', '靈魂', '青斗石', '青苔', '青草', '青蛙', '靜態', '面向', '面積', '面貌', '鞍部', '音像', '音樂', '音響', '韻味', '頂樓', '頂級', '項目', '領域', '領導', '領略', '題字', '題材', '顏色', '願景', '類動物', '類型', '顧客', '風光', '風力', '風化', '風味', '風帆', '風情', '風景', '風景區', '風格', '風氣', '風水', '風潮', '風災', '風箏', '風華', '風貌', '風車', '風雨', '飛機', '飛舞', '食品', '食材', '食物', '食用', '飯店', '飲品', '飲料', '飲水', '飲食', '飾品', '餐廳', '餐飲', '餐館', '餐點', '館位', '館區', '館方', '館舍', '饕客', '首任', '首創', '香味', '香客', '香氣', '香火', '香爐', '香草', '香菇', '香蕉', '香醇', '駐軍', '騎士', '騎樓', '驛站', '體力', '體會', '體驗', '體驗區', '高台', '高地', '高度', '高架', '高速公路', '高鐵', '高雄', '高點', '魅力', '魚兒', '魚池', '魚種', '魚群', '魚蝦', '魚貨', '魚類', '魷魚', '鯉魚', '鯤鯓', '鳥兒', '鳥種', '鳥類', '鴛鴦', '鹼性', '鹽場', '鹽業', '鹽田', '黃色', '黃金', '黑色', '黑面', '鼻頭', '龍柱', '龍頭']\n"
     ]
    }
   ],
   "source": [
    "trarray = ft_vectorizer.fit_transform(ft.content_cutted).toarray()\n",
    "\n",
    "print(trarray)\n",
    "\n",
    "feature_name = ft_vectorizer.get_feature_names()\n",
    "pd.DataFrame(feature_name)\n",
    "print(feature_name)"
   ]
  },
  {
   "cell_type": "code",
   "execution_count": 260,
   "metadata": {},
   "outputs": [],
   "source": [
    "import csv\n",
    "\n",
    "# 開啟輸出的 CSV 檔案\n",
    "with open('trname.csv', 'w', newline='') as csvfile:\n",
    "  # 建立 CSV 檔寫入器\n",
    "  writer = csv.writer(csvfile)\n",
    "\n",
    "  # 寫入一列資料\n",
    "  writer.writerow(feature_name)"
   ]
  },
  {
   "cell_type": "code",
   "execution_count": 262,
   "metadata": {},
   "outputs": [],
   "source": [
    "pd.DataFrame(trarray).to_csv('trarray.csv')"
   ]
  },
  {
   "cell_type": "markdown",
   "metadata": {},
   "source": [
    "print(travel) #檢查是否符合"
   ]
  },
  {
   "cell_type": "markdown",
   "metadata": {},
   "source": [
    "# 尋找適合的主題數(根據perplexity)"
   ]
  },
  {
   "cell_type": "code",
   "execution_count": 9,
   "metadata": {},
   "outputs": [],
   "source": [
    "from sklearn.decomposition import LatentDirichletAllocation"
   ]
  },
  {
   "cell_type": "code",
   "execution_count": 70,
   "metadata": {},
   "outputs": [
    {
     "name": "stderr",
     "output_type": "stream",
     "text": [
      "c:\\users\\sabri\\appdata\\local\\programs\\python\\python35\\lib\\site-packages\\sklearn\\decomposition\\online_lda.py:294: DeprecationWarning: n_topics has been renamed to n_components in version 0.19 and will be removed in 0.21\n",
      "  DeprecationWarning)\n"
     ]
    },
    {
     "name": "stdout",
     "output_type": "stream",
     "text": [
      "# of Topic: 5, \n",
      "Perplexity Score 848.215\n"
     ]
    },
    {
     "name": "stderr",
     "output_type": "stream",
     "text": [
      "c:\\users\\sabri\\appdata\\local\\programs\\python\\python35\\lib\\site-packages\\sklearn\\decomposition\\online_lda.py:294: DeprecationWarning: n_topics has been renamed to n_components in version 0.19 and will be removed in 0.21\n",
      "  DeprecationWarning)\n"
     ]
    },
    {
     "name": "stdout",
     "output_type": "stream",
     "text": [
      "# of Topic: 6, \n",
      "Perplexity Score 857.667\n"
     ]
    },
    {
     "name": "stderr",
     "output_type": "stream",
     "text": [
      "c:\\users\\sabri\\appdata\\local\\programs\\python\\python35\\lib\\site-packages\\sklearn\\decomposition\\online_lda.py:294: DeprecationWarning: n_topics has been renamed to n_components in version 0.19 and will be removed in 0.21\n",
      "  DeprecationWarning)\n"
     ]
    },
    {
     "name": "stdout",
     "output_type": "stream",
     "text": [
      "# of Topic: 7, \n",
      "Perplexity Score 834.832\n"
     ]
    },
    {
     "name": "stderr",
     "output_type": "stream",
     "text": [
      "c:\\users\\sabri\\appdata\\local\\programs\\python\\python35\\lib\\site-packages\\sklearn\\decomposition\\online_lda.py:294: DeprecationWarning: n_topics has been renamed to n_components in version 0.19 and will be removed in 0.21\n",
      "  DeprecationWarning)\n"
     ]
    },
    {
     "name": "stdout",
     "output_type": "stream",
     "text": [
      "# of Topic: 8, \n",
      "Perplexity Score 824.254\n"
     ]
    },
    {
     "name": "stderr",
     "output_type": "stream",
     "text": [
      "c:\\users\\sabri\\appdata\\local\\programs\\python\\python35\\lib\\site-packages\\sklearn\\decomposition\\online_lda.py:294: DeprecationWarning: n_topics has been renamed to n_components in version 0.19 and will be removed in 0.21\n",
      "  DeprecationWarning)\n"
     ]
    },
    {
     "name": "stdout",
     "output_type": "stream",
     "text": [
      "# of Topic: 9, \n",
      "Perplexity Score 808.597\n"
     ]
    },
    {
     "name": "stderr",
     "output_type": "stream",
     "text": [
      "c:\\users\\sabri\\appdata\\local\\programs\\python\\python35\\lib\\site-packages\\sklearn\\decomposition\\online_lda.py:294: DeprecationWarning: n_topics has been renamed to n_components in version 0.19 and will be removed in 0.21\n",
      "  DeprecationWarning)\n"
     ]
    },
    {
     "name": "stdout",
     "output_type": "stream",
     "text": [
      "# of Topic: 10, \n",
      "Perplexity Score 814.358\n"
     ]
    }
   ],
   "source": [
    "n_topics = range(5, 11, 1)\n",
    "perplexityLst = [1.0]*len(n_topics)\n",
    "\n",
    "#训练LDA并打印训练时间\n",
    "lda_models = []\n",
    "for idx,n_topic in enumerate(n_topics):\n",
    "   # t0 = time()\n",
    "    np.random.seed(16)\n",
    "    lda = LatentDirichletAllocation(n_topics=n_topic,\n",
    "                                    max_iter=1000,\n",
    "                                    learning_method='batch',\n",
    "                                    evaluate_every=200,                         \n",
    "                                    verbose=0)\n",
    "    lda.fit(tr)\n",
    "    perplexityLst[idx] = lda.perplexity(tr)\n",
    "    lda_models.append(lda)\n",
    "    print(\"# of Topic: %d, \" % n_topics[idx],)\n",
    "   # print(\"done in %0.3fs, N_iter %d, \" % ((time() - t0), lda.n_iter_),)\n",
    "    print(\"Perplexity Score %0.3f\" % perplexityLst[idx])"
   ]
  },
  {
   "cell_type": "code",
   "execution_count": 72,
   "metadata": {
    "scrolled": false
   },
   "outputs": [
    {
     "name": "stdout",
     "output_type": "stream",
     "text": [
      "Best # of Topic:  9\n"
     ]
    },
    {
     "data": {
      "image/png": "[encoded data removed]",
      "text/plain": [
       "<matplotlib.figure.Figure at 0x2bac9834400>"
      ]
     },
     "metadata": {},
     "output_type": "display_data"
    }
   ],
   "source": [
    "#打印最佳模型\n",
    "best_index = perplexityLst.index(min(perplexityLst))\n",
    "best_n_topic = n_topics[best_index]\n",
    "best_model = lda_models[best_index]\n",
    "print(\"Best # of Topic: \", best_n_topic)\n",
    "\n",
    "#繪製不同主题数perplexity的不同\n",
    "import matplotlib.pyplot as plt\n",
    "fig = plt.figure()\n",
    "ax = fig.add_subplot(1,1,1)\n",
    "ax.plot(n_topics, perplexityLst)\n",
    "ax.set_xlabel(\"# of topics\")\n",
    "ax.set_ylabel(\"Approximate Perplexity\")\n",
    "\n",
    "plt.grid(True)\n",
    "#plt.savefig(os.path.join('lda_result', 'perplexityTrend'+CODE+'.png'))\n",
    "plt.show()"
   ]
  },
  {
   "cell_type": "markdown",
   "metadata": {},
   "source": [
    "# 尋找適合的亂數種子(根據perplexity)"
   ]
  },
  {
   "cell_type": "code",
   "execution_count": 30,
   "metadata": {},
   "outputs": [
    {
     "name": "stderr",
     "output_type": "stream",
     "text": [
      "c:\\users\\sabri\\appdata\\local\\programs\\python\\python35\\lib\\site-packages\\sklearn\\decomposition\\online_lda.py:294: DeprecationWarning: n_topics has been renamed to n_components in version 0.19 and will be removed in 0.21\n",
      "  DeprecationWarning)\n"
     ]
    },
    {
     "name": "stdout",
     "output_type": "stream",
     "text": [
      "# seed: 1, \n",
      "Perplexity Score 874.455\n"
     ]
    },
    {
     "name": "stderr",
     "output_type": "stream",
     "text": [
      "c:\\users\\sabri\\appdata\\local\\programs\\python\\python35\\lib\\site-packages\\sklearn\\decomposition\\online_lda.py:294: DeprecationWarning: n_topics has been renamed to n_components in version 0.19 and will be removed in 0.21\n",
      "  DeprecationWarning)\n"
     ]
    },
    {
     "name": "stdout",
     "output_type": "stream",
     "text": [
      "# seed: 2, \n",
      "Perplexity Score 920.354\n"
     ]
    },
    {
     "name": "stderr",
     "output_type": "stream",
     "text": [
      "c:\\users\\sabri\\appdata\\local\\programs\\python\\python35\\lib\\site-packages\\sklearn\\decomposition\\online_lda.py:294: DeprecationWarning: n_topics has been renamed to n_components in version 0.19 and will be removed in 0.21\n",
      "  DeprecationWarning)\n"
     ]
    },
    {
     "name": "stdout",
     "output_type": "stream",
     "text": [
      "# seed: 3, \n",
      "Perplexity Score 883.842\n"
     ]
    },
    {
     "name": "stderr",
     "output_type": "stream",
     "text": [
      "c:\\users\\sabri\\appdata\\local\\programs\\python\\python35\\lib\\site-packages\\sklearn\\decomposition\\online_lda.py:294: DeprecationWarning: n_topics has been renamed to n_components in version 0.19 and will be removed in 0.21\n",
      "  DeprecationWarning)\n"
     ]
    },
    {
     "name": "stdout",
     "output_type": "stream",
     "text": [
      "# seed: 4, \n",
      "Perplexity Score 881.072\n"
     ]
    },
    {
     "name": "stderr",
     "output_type": "stream",
     "text": [
      "c:\\users\\sabri\\appdata\\local\\programs\\python\\python35\\lib\\site-packages\\sklearn\\decomposition\\online_lda.py:294: DeprecationWarning: n_topics has been renamed to n_components in version 0.19 and will be removed in 0.21\n",
      "  DeprecationWarning)\n"
     ]
    },
    {
     "name": "stdout",
     "output_type": "stream",
     "text": [
      "# seed: 5, \n",
      "Perplexity Score 886.958\n"
     ]
    },
    {
     "name": "stderr",
     "output_type": "stream",
     "text": [
      "c:\\users\\sabri\\appdata\\local\\programs\\python\\python35\\lib\\site-packages\\sklearn\\decomposition\\online_lda.py:294: DeprecationWarning: n_topics has been renamed to n_components in version 0.19 and will be removed in 0.21\n",
      "  DeprecationWarning)\n"
     ]
    },
    {
     "name": "stdout",
     "output_type": "stream",
     "text": [
      "# seed: 6, \n",
      "Perplexity Score 864.859\n"
     ]
    },
    {
     "name": "stderr",
     "output_type": "stream",
     "text": [
      "c:\\users\\sabri\\appdata\\local\\programs\\python\\python35\\lib\\site-packages\\sklearn\\decomposition\\online_lda.py:294: DeprecationWarning: n_topics has been renamed to n_components in version 0.19 and will be removed in 0.21\n",
      "  DeprecationWarning)\n"
     ]
    },
    {
     "name": "stdout",
     "output_type": "stream",
     "text": [
      "# seed: 7, \n",
      "Perplexity Score 895.399\n"
     ]
    },
    {
     "name": "stderr",
     "output_type": "stream",
     "text": [
      "c:\\users\\sabri\\appdata\\local\\programs\\python\\python35\\lib\\site-packages\\sklearn\\decomposition\\online_lda.py:294: DeprecationWarning: n_topics has been renamed to n_components in version 0.19 and will be removed in 0.21\n",
      "  DeprecationWarning)\n"
     ]
    },
    {
     "name": "stdout",
     "output_type": "stream",
     "text": [
      "# seed: 8, \n",
      "Perplexity Score 873.235\n"
     ]
    },
    {
     "name": "stderr",
     "output_type": "stream",
     "text": [
      "c:\\users\\sabri\\appdata\\local\\programs\\python\\python35\\lib\\site-packages\\sklearn\\decomposition\\online_lda.py:294: DeprecationWarning: n_topics has been renamed to n_components in version 0.19 and will be removed in 0.21\n",
      "  DeprecationWarning)\n"
     ]
    },
    {
     "name": "stdout",
     "output_type": "stream",
     "text": [
      "# seed: 9, \n",
      "Perplexity Score 892.618\n"
     ]
    },
    {
     "name": "stderr",
     "output_type": "stream",
     "text": [
      "c:\\users\\sabri\\appdata\\local\\programs\\python\\python35\\lib\\site-packages\\sklearn\\decomposition\\online_lda.py:294: DeprecationWarning: n_topics has been renamed to n_components in version 0.19 and will be removed in 0.21\n",
      "  DeprecationWarning)\n"
     ]
    },
    {
     "name": "stdout",
     "output_type": "stream",
     "text": [
      "# seed: 10, \n",
      "Perplexity Score 868.127\n"
     ]
    }
   ],
   "source": [
    "SOME_FIXED_SEED = range(1, 11, 1)\n",
    "\n",
    "perplexityLst = [1.0]*len(SOME_FIXED_SEED)\n",
    "\n",
    "#训练LDA并打印训练时间\n",
    "lda_models = []\n",
    "for idx, SEED in enumerate(SOME_FIXED_SEED):\n",
    "   # t0 = time()\n",
    "    np.random.seed(SEED)\n",
    "    n_topic=9\n",
    "    lda = LatentDirichletAllocation(n_topics=n_topic,\n",
    "                                    max_iter=1000,\n",
    "                                    learning_method='online')\n",
    "    lda.fit(tr)\n",
    "    perplexityLst[idx] = lda.perplexity(tr)\n",
    "    lda_models.append(lda)\n",
    "    print(\"# seed: %d, \" % SOME_FIXED_SEED[idx],)\n",
    "   # print(\"done in %0.3fs, N_iter %d, \" % ((time() - t0), lda.n_iter_),)\n",
    "    print(\"Perplexity Score %0.3f\" % perplexityLst[idx])"
   ]
  },
  {
   "cell_type": "code",
   "execution_count": 32,
   "metadata": {},
   "outputs": [
    {
     "name": "stdout",
     "output_type": "stream",
     "text": [
      "Best SEED:  6\n"
     ]
    },
    {
     "data": {
      "image/png": "[encoded data removed]",
      "text/plain": [
       "<matplotlib.figure.Figure at 0x2bac86f82e8>"
      ]
     },
     "metadata": {},
     "output_type": "display_data"
    }
   ],
   "source": [
    "#打印最佳模型\n",
    "best_index = perplexityLst.index(min(perplexityLst))\n",
    "best_n_SEED = SOME_FIXED_SEED[best_index]\n",
    "best_model = lda_models[best_index]\n",
    "print(\"Best SEED: \", best_n_SEED)\n",
    "\n",
    "#繪製不同主题数perplexity的不同\n",
    "import matplotlib.pyplot as plt\n",
    "fig = plt.figure()\n",
    "ax = fig.add_subplot(1,1,1)\n",
    "ax.plot(SOME_FIXED_SEED, perplexityLst)\n",
    "ax.set_xlabel(\"seed #\")\n",
    "ax.set_ylabel(\"Approximate Perplexity\")\n",
    "\n",
    "plt.grid(True)\n",
    "#plt.savefig(os.path.join('lda_result', 'perplexityTrend'+CODE+'.png'))\n",
    "plt.show()"
   ]
  },
  {
   "cell_type": "markdown",
   "metadata": {},
   "source": [
    "# 建LDA模型"
   ]
  },
  {
   "cell_type": "code",
   "execution_count": 10,
   "metadata": {},
   "outputs": [],
   "source": [
    "n_topic = 9\n",
    "lda = LatentDirichletAllocation(n_topics=n_topic,\n",
    "                                    max_iter=1000,\n",
    "                                    learning_method='batch',\n",
    "                                    evaluate_every=200,                         \n",
    "                                    verbose=0)"
   ]
  },
  {
   "cell_type": "code",
   "execution_count": 11,
   "metadata": {},
   "outputs": [],
   "source": [
    "def print_top_words(model, feature_names, n_top_words):\n",
    "    model.components_ /= model.components_.sum(axis=1)[:, np.newaxis]\n",
    "    for topic_idx, topic in enumerate(model.components_):\n",
    "        print(\"Topic #%d:\" % topic_idx)\n",
    "        print(\" \".join([feature_names[i]\n",
    "                        for i in topic.argsort()[:-n_top_words - 1:-1]]))\n",
    "        print()#每个主题下权重较高的词语\n",
    "    print(model.components_)"
   ]
  },
  {
   "cell_type": "code",
   "execution_count": 12,
   "metadata": {},
   "outputs": [
    {
     "name": "stderr",
     "output_type": "stream",
     "text": [
      "c:\\users\\sabri\\appdata\\local\\programs\\python\\python35\\lib\\site-packages\\sklearn\\decomposition\\online_lda.py:294: DeprecationWarning: n_topics has been renamed to n_components in version 0.19 and will be removed in 0.21\n",
      "  DeprecationWarning)\n"
     ]
    },
    {
     "name": "stdout",
     "output_type": "stream",
     "text": [
      "Topic #0:\n",
      "建築 歷史 時期 客家 日治 時代 日式 風格 教堂 宿舍\n",
      "\n",
      "Topic #1:\n",
      "老街 夜市 廣場 美食 商圈 小吃 市場 中心 人潮 球場\n",
      "\n",
      "Topic #2:\n",
      "體驗 農場 遊客 咖啡 園區 觀光 工廠 生態 世界 產業\n",
      "\n",
      "Topic #3:\n",
      "廟宇 信仰 歷史 建築 觀音 媽祖 菩薩 香火 中心 地方\n",
      "\n",
      "Topic #4:\n",
      "公園 生態 園區 車道 環境 規劃 景觀 民眾 設施 面積\n",
      "\n",
      "Topic #5:\n",
      "部落 文化 原住民 車站 社區 火車 神社 隧道 遊客 鐵路\n",
      "\n",
      "Topic #6:\n",
      "文化 藝術 空間 中心 建築 文物 博物 歷史 作品 藝文\n",
      "\n",
      "Topic #7:\n",
      "步道 植物 生態 古道 森林 海拔 景觀 道路 視野 美景\n",
      "\n",
      "Topic #8:\n",
      "遊客 瀑布 淡水 景觀 碼頭 吊橋 美景 景點 地形 風景區\n",
      "\n",
      "[[  2.27740063e-04   8.16647509e-06   8.16968655e-06 ...,   8.17039680e-06\n",
      "    8.16633091e-06   8.16872031e-06]\n",
      " [  6.79941010e-04   1.69776691e-04   6.47400436e-04 ...,   1.25375775e-05\n",
      "    1.25347580e-05   6.05194534e-04]\n",
      " [  7.88787189e-06   7.88515175e-06   7.89315339e-06 ...,   7.88313150e-06\n",
      "    7.88313148e-06   7.88655218e-06]\n",
      " ..., \n",
      " [  5.50304943e-06   6.29637716e-04   5.51666835e-06 ...,   5.50131468e-06\n",
      "    5.50197998e-06   5.51042206e-06]\n",
      " [  6.51636138e-04   5.82097837e-06   1.05666194e-04 ...,   5.82180103e-06\n",
      "    5.82027528e-06   7.22553731e-05]\n",
      " [  1.01918851e-03   8.43522314e-06   1.86182071e-04 ...,   2.43544815e-03\n",
      "    8.42720986e-06   4.16506725e-04]]\n"
     ]
    }
   ],
   "source": [
    "n_topic = 9\n",
    "lda = LatentDirichletAllocation(n_topics=n_topic,\n",
    "                                    max_iter=1000,\n",
    "                                    learning_method='batch',\n",
    "                                    evaluate_every=200,                         \n",
    "                                    verbose=0)\n",
    "\n",
    "SOME_FIXED_SEED=16\n",
    "np.random.seed(SOME_FIXED_SEED)\n",
    "\n",
    "trlda9=lda.fit(tr)\n",
    "#trlda9.components_ /= trlda9.components_.sum(axis=1)[:, np.newaxis]  \n",
    "n_top_words = 10\n",
    "ft_feature_names = ft_vectorizer.get_feature_names()\n",
    "print_top_words(trlda9, ft_feature_names, n_top_words)\n",
    "\n",
    "import csv\n",
    "with open('topic_word9.csv','w') as csvfile:\n",
    "    writer = csv.writer(csvfile)\n",
    "    for i in range(trlda9.components_.shape[1]):\n",
    "        writer.writerow(trlda9.components_[:,i:(i+1)])"
   ]
  },
  {
   "cell_type": "code",
   "execution_count": 63,
   "metadata": {},
   "outputs": [
    {
     "name": "stderr",
     "output_type": "stream",
     "text": [
      "c:\\users\\sabri\\appdata\\local\\programs\\python\\python35\\lib\\site-packages\\sklearn\\decomposition\\online_lda.py:294: DeprecationWarning: n_topics has been renamed to n_components in version 0.19 and will be removed in 0.21\n",
      "  DeprecationWarning)\n"
     ]
    },
    {
     "name": "stdout",
     "output_type": "stream",
     "text": [
      "Topic #0:\n",
      "建築 瀑布 古道 歷史 時期 日治 日式 時代 宿舍 風格\n",
      "\n",
      "Topic #1:\n",
      "公園 步道 景觀 遊客 美景 廣場 景點 夜市 視野 車道\n",
      "\n",
      "Topic #2:\n",
      "文化 藝術 空間 中心 體驗 園區 博物 遊客 主題 建築\n",
      "\n",
      "Topic #3:\n",
      "建築 歷史 廟宇 信仰 中心 媽祖 觀音 菩薩 地方 香火\n",
      "\n",
      "Topic #4:\n",
      "生態 植物 農場 環境 園區 森林 遊客 景觀 公路 碼頭\n",
      "\n",
      "Topic #5:\n",
      "部落 文化 老街 原住民 歷史 車站 火車 時期 傳統 商圈\n",
      "\n",
      "[[  1.70252214e-04   1.04983595e-05   1.05887169e-05 ...,   1.05317236e-05\n",
      "    1.04441660e-05   1.05037811e-05]\n",
      " [  2.70217323e-04   6.39864100e-06   1.05172652e-04 ...,   1.22007600e-03\n",
      "    6.32376779e-06   3.30883387e-04]\n",
      " [  5.29162553e-06   4.46641132e-04   3.32903841e-04 ...,   5.25665381e-06\n",
      "    5.25822390e-06   5.39655827e-06]\n",
      " [  4.24181518e-04   1.11703109e-05   1.12033314e-05 ...,   1.11416808e-05\n",
      "    7.46481525e-04   1.12181743e-05]\n",
      " [  9.25993864e-04   9.14365714e-06   9.17236567e-06 ...,   9.25728931e-06\n",
      "    9.05491834e-06   9.34344521e-06]\n",
      " [  1.22008825e-03   1.15904710e-05   1.15922642e-05 ...,   1.15993586e-05\n",
      "    1.15537215e-05   3.18844594e-04]]\n"
     ]
    }
   ],
   "source": [
    "n_topic = 6\n",
    "lda = LatentDirichletAllocation(n_topics=n_topic,\n",
    "                                    max_iter=1000,\n",
    "                                    learning_method='batch',\n",
    "                                    evaluate_every=200,                         \n",
    "                                    verbose=0)\n",
    "\n",
    "SOME_FIXED_SEED=16\n",
    "np.random.seed(SOME_FIXED_SEED)\n",
    "\n",
    "trlda6=lda.fit(tr)\n",
    "#trlda9.components_ /= trlda9.components_.sum(axis=1)[:, np.newaxis]  \n",
    "n_top_words = 10\n",
    "ft_feature_names = ft_vectorizer.get_feature_names()\n",
    "print_top_words(trlda6, ft_feature_names, n_top_words)\n",
    "\n",
    "import csv\n",
    "with open('topic_word6.csv','w') as csvfile:\n",
    "    writer = csv.writer(csvfile)\n",
    "    for i in range(trlda6.components_.shape[1]):\n",
    "        writer.writerow(trlda6.components_[:,i:(i+1)])"
   ]
  },
  {
   "cell_type": "code",
   "execution_count": 46,
   "metadata": {},
   "outputs": [
    {
     "ename": "TypeError",
     "evalue": "perplexity() missing 1 required positional argument: 'X'",
     "output_type": "error",
     "traceback": [
      "\u001b[1;31m---------------------------------------------------------------------------\u001b[0m",
      "\u001b[1;31mTypeError\u001b[0m                                 Traceback (most recent call last)",
      "\u001b[1;32m<ipython-input-46-656ab6d4f2b0>\u001b[0m in \u001b[0;36m<module>\u001b[1;34m()\u001b[0m\n\u001b[1;32m----> 1\u001b[1;33m \u001b[0mtrlda9\u001b[0m\u001b[1;33m.\u001b[0m\u001b[0mperplexity\u001b[0m\u001b[1;33m(\u001b[0m\u001b[1;33m)\u001b[0m\u001b[1;33m\u001b[0m\u001b[0m\n\u001b[0m",
      "\u001b[1;31mTypeError\u001b[0m: perplexity() missing 1 required positional argument: 'X'"
     ]
    }
   ],
   "source": [
    "trlda9.perplexity()"
   ]
  },
  {
   "cell_type": "markdown",
   "metadata": {},
   "source": [
    "# 所有文檔的主題分布"
   ]
  },
  {
   "cell_type": "code",
   "execution_count": 68,
   "metadata": {},
   "outputs": [
    {
     "name": "stdout",
     "output_type": "stream",
     "text": [
      "[[ 0.13156123  0.00555665  0.43403793 ...,  0.40106131  0.0055559\n",
      "   0.00555675]\n",
      " [ 0.00258439  0.0025843   0.97932023 ...,  0.00258622  0.00258444\n",
      "   0.00258458]\n",
      " [ 0.00122179  0.0669835   0.22777838 ...,  0.13415036  0.0012213\n",
      "   0.00122127]\n",
      " ..., \n",
      " [ 0.14080846  0.00236462  0.00236512 ...,  0.15697305  0.00236455\n",
      "   0.00236473]\n",
      " [ 0.00585074  0.18646388  0.00585178 ...,  0.77258649  0.00584837\n",
      "   0.00584823]\n",
      " [ 0.00252632  0.00252576  0.00252711 ...,  0.83296351  0.00252557\n",
      "   0.00252552]]\n"
     ]
    }
   ],
   "source": [
    "doc_topic_dist9 = trlda9.transform(tr)\n",
    "print(doc_topic_dist9)\n",
    "list9=doc_topic_dist9.tolist()\n",
    "import csv\n",
    "# 開啟輸出的 CSV 檔案\n",
    "with open('doc_topic9.csv', 'w') as csvfile:\n",
    "  # 建立 CSV 檔寫入器\n",
    "  writer = csv.writer(csvfile)\n",
    "\n",
    "  # 寫入一列資料\n",
    "  writer.writerow(list9)"
   ]
  },
  {
   "cell_type": "code",
   "execution_count": 66,
   "metadata": {},
   "outputs": [
    {
     "name": "stdout",
     "output_type": "stream",
     "text": [
      "[[ 0.00846718  0.00834913  0.95808095  0.00839778  0.0083464   0.00835855]\n",
      " [ 0.00388382  0.00388634  0.98057074  0.00388433  0.0038844   0.00389038]\n",
      " [ 0.00184481  0.04384249  0.51209553  0.00183827  0.00183967  0.43853922]\n",
      " ..., \n",
      " [ 0.0035976   0.00356878  0.42898979  0.00357467  0.00357878  0.55669038]\n",
      " [ 0.00881162  0.00883533  0.9558768   0.00880577  0.00878944  0.00888104]\n",
      " [ 0.00382017  0.00379479  0.8689281   0.00380865  0.00380897  0.11583931]]\n"
     ]
    }
   ],
   "source": [
    "doc_topic_dist6 = trlda6.transform(tr)\n",
    "print(doc_topic_dist6)\n",
    "list6=doc_topic_dist6.tolist()\n",
    "import csv\n",
    "# 開啟輸出的 CSV 檔案\n",
    "with open('doc_topic6.csv', 'w') as csvfile:\n",
    "  # 建立 CSV 檔寫入器\n",
    "  writer = csv.writer(csvfile)\n",
    "\n",
    "  # 寫入一列資料\n",
    "  writer.writerow(list6)"
   ]
  },
  {
   "cell_type": "markdown",
   "metadata": {},
   "source": [
    "arr=[]\n",
    "for n in (range(2,20)):\n",
    "  SOME_FIXED_SEED=6\n",
    "  np.random.seed(SOME_FIXED_SEED)  \n",
    "  model = LatentDirichletAllocation(n_topics=n, max_iter=20, random_state=1)\n",
    "  model.fit(tr)\n",
    "  topic_word = model.components_   # model.components_ also works\n",
    "  arr.append(\n",
    "    (min([max(topic_word[i]) for i in range(model.n_topics)]),\n",
    "     max([max(topic_word[i]) for i in range(model.n_topics)])))\n",
    "  print(\"top word=\",n)"
   ]
  },
  {
   "cell_type": "markdown",
   "metadata": {},
   "source": [
    "import matplotlib.pyplot as plt\n",
    "plt.plot(arr)\n",
    "plt.show()"
   ]
  },
  {
   "cell_type": "markdown",
   "metadata": {},
   "source": [
    "\n",
    "parameters = {'n_components': [7, 8, 9, 10, 11], 'learning_decay': [.5, .7, .9]}\n",
    "lda = LatentDirichletAllocation()\n",
    "model = GridSearchCV(lda, parameters)\n",
    "model.fit(tr)\n",
    "\n",
    "sorted(model.cv_results_.keys())"
   ]
  },
  {
   "cell_type": "markdown",
   "metadata": {},
   "source": [
    "# 視覺化"
   ]
  },
  {
   "cell_type": "markdown",
   "metadata": {},
   "source": [
    "import pyLDAvis\n",
    "import pyLDAvis.sklearn\n",
    "pyLDAvis.enable_notebook()\n",
    "pyLDAvis.sklearn.prepare(trlda9, ft, tr_vectorizer)"
   ]
  }
 ],
 "metadata": {
  "kernelspec": {
   "display_name": "Python 3",
   "language": "python",
   "name": "python3"
  },
  "language_info": {
   "codemirror_mode": {
    "name": "ipython",
    "version": 3
   },
   "file_extension": ".py",
   "mimetype": "text/x-python",
   "name": "python",
   "nbconvert_exporter": "python",
   "pygments_lexer": "ipython3",
   "version": "3.5.2"
  }
 },
 "nbformat": 4,
 "nbformat_minor": 2
}
